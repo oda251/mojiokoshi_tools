{
  "nbformat": 4,
  "nbformat_minor": 0,
  "metadata": {
    "colab": {
      "provenance": [],
      "gpuType": "T4",
      "include_colab_link": true
    },
    "kernelspec": {
      "name": "python3",
      "display_name": "Python 3"
    },
    "language_info": {
      "name": "python"
    },
    "accelerator": "GPU"
  },
  "cells": [
    {
      "cell_type": "markdown",
      "metadata": {
        "id": "view-in-github",
        "colab_type": "text"
      },
      "source": [
        "<a href=\"https://colab.research.google.com/github/oda251/mojiokoshi_tools/blob/main/Whisper_%E6%96%87%E5%AD%97%E8%B5%B7%E3%81%93%E3%81%97.ipynb\" target=\"_parent\"><img src=\"https://colab.research.google.com/assets/colab-badge.svg\" alt=\"Open In Colab\"/></a>"
      ]
    },
    {
      "cell_type": "markdown",
      "source": [
        "## **使用方法**\n",
        "#### 1. 上部メニューの「ランタイム」「ランタイムのタイプを変更」から、「T4 GPU」を選択してください\n",
        "#### 2. 上から順番に、指示に従って入力等を行ってください\n",
        "#### 3. 最後に、上部メニューの「ランタイム」から「すべてのセルを実行」をクリックすると、output.txtに結果が格納されます。"
      ],
      "metadata": {
        "id": "rWm-oawXDJro"
      }
    },
    {
      "cell_type": "code",
      "source": [
        "#@title 必要なライブラリのインストール\n",
        "!pip install -U openai-whisper\n",
        "!sudo apt update && sudo apt install ffmpeg\n",
        "!pip install pydub\n",
        "\n",
        "import subprocess\n",
        "import whisper\n",
        "from pydub import AudioSegment\n",
        "import os\n",
        "from google.colab import files"
      ],
      "metadata": {
        "id": "cXHmSmmYML_p",
        "cellView": "form"
      },
      "execution_count": null,
      "outputs": []
    },
    {
      "cell_type": "code",
      "source": [
        "#@title Whisperモデルを選択\n",
        "#@markdown 1. モデルを選択してください。大きいほど精度と処理時間が大きくなります\n",
        "モデル = \"large\" #@param [\"large\", \"medium\", \"small\", \"base\", \"tiny\"]\n",
        "model = whisper.load_model(モデル)"
      ],
      "metadata": {
        "id": "2-8FJF1BjEIr"
      },
      "execution_count": null,
      "outputs": []
    },
    {
      "cell_type": "code",
      "execution_count": null,
      "metadata": {
        "id": "sPNYgUnt-D7f"
      },
      "outputs": [],
      "source": [
        "#@title ファイルのアップロード\n",
        "#@markdown - 音声ファイルをアップロードしてください\n",
        "uploaded = files.upload()\n",
        "audio_path = list(uploaded)[0]\n",
        "\n",
        "if os.path.isfile(audio_path):\n",
        "  print(\"アップロードが完了しました\")\n",
        "else:\n",
        "  print(\"入力されたパスにファイルが見つかりませんでした\")"
      ]
    },
    {
      "cell_type": "code",
      "source": [
        "#@title 実行\n",
        "#@markdown 1. 上部メニューの「ランタイム」から「すべてのセルを実行」をクリック\n",
        "if not os.path.isfile(audio_path):\n",
        "  print(\"ファイルが正しくアップロードされていません\")\n",
        "\n",
        "def convert_m4a_to_mp3(file_path, output_path):\n",
        "    # ffmpegを使用してm4aをmp3に変換\n",
        "    subprocess.run(['ffmpeg', '-i', file_path, output_path])\n",
        "\n",
        "def transcribe_audio(file_path):\n",
        "    # ここでは、modelは既にロードされていると想定\n",
        "    global model\n",
        "    sound = AudioSegment.from_file(file_path)\n",
        "    duration = sound.duration_seconds\n",
        "    result = []\n",
        "    for i, j in enumerate(range(0, int(duration), 25)):\n",
        "        left = j\n",
        "        if left > 0:\n",
        "          left += 3\n",
        "        right = (j + 25)\n",
        "        left *= 1000\n",
        "        right *= 1000\n",
        "        tgt = \"tmp.mp3\"\n",
        "        sound[left:right].export(tgt, format=\"mp3\")\n",
        "        result.append(model.transcribe(tgt)[\"text\"])\n",
        "    return result\n",
        "\n",
        "transcription_result = transcribe_audio(audio_path)\n",
        "\n",
        "# 保存先の指定\n",
        "output_path = '/content/'\n",
        "\n",
        "# ディレクトリが存在しない場合は作成\n",
        "if not os.path.exists(output_path):\n",
        "    os.makedirs(output_path)\n",
        "\n",
        "# 保存\n",
        "export_file = output_path + \"output.txt\"\n",
        "with open(export_file, 'w') as f:\n",
        "    for txt in transcription_result:\n",
        "      f.write(txt)\n",
        "      f.write('\\n')\n",
        "\n",
        "print(f\"ファイルが保存されました: {export_file}\")"
      ],
      "metadata": {
        "id": "XfuNyRqFO-nY"
      },
      "execution_count": null,
      "outputs": []
    }
  ]
}