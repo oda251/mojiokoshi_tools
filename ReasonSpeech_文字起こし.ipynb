{
  "cells": [
    {
      "cell_type": "markdown",
      "metadata": {
        "id": "view-in-github",
        "colab_type": "text"
      },
      "source": [
        "<a href=\"https://colab.research.google.com/github/oda251/mojiokoshi_tools/blob/main/ReasonSpeech_%E6%96%87%E5%AD%97%E8%B5%B7%E3%81%93%E3%81%97.ipynb\" target=\"_parent\"><img src=\"https://colab.research.google.com/assets/colab-badge.svg\" alt=\"Open In Colab\"/></a>"
      ]
    },
    {
      "cell_type": "markdown",
      "metadata": {
        "id": "rWm-oawXDJro"
      },
      "source": [
        "## **使用方法**\n",
        "#### 1. 上部メニューの「ランタイム」「ランタイムのタイプを変更」から、「T4 GPU」を選択してください\n",
        "#### 2. 「ランタイム」から「すべてのセルを実行」をクリックすると、output.txtに結果が格納されます。\n",
        "#### 2. 上から順番に、指示に従って入力等を行ってください\n"
      ]
    },
    {
      "cell_type": "code",
      "execution_count": null,
      "metadata": {
        "id": "cXHmSmmYML_p",
        "cellView": "form"
      },
      "outputs": [],
      "source": [
        "#@title 必要なライブラリのインストール\n",
        "!pip install git+https://github.com/reazon-research/reazonspeech\n",
        "\n",
        "import torch\n",
        "from espnet2.bin.asr_inference import Speech2Text\n",
        "import librosa\n",
        "import reazonspeech as rs\n",
        "from google.colab import files\n",
        "import os"
      ]
    },
    {
      "cell_type": "code",
      "execution_count": null,
      "metadata": {
        "id": "sPNYgUnt-D7f",
        "cellView": "form"
      },
      "outputs": [],
      "source": [
        "#@title 音声ファイルのアップロード\n",
        "#@markdown - 実行後、以下のボタンからアップロードしてください\n",
        "uploaded = files.upload()\n",
        "file_path = list(uploaded)[0]\n",
        "import os\n",
        "file_name = os.path.splitext(os.path.basename(file_path))[0]\n",
        "\n",
        "device = \"cuda\" if torch.cuda.is_available() else \"cpu\"\n",
        "\n",
        "speech2text = Speech2Text.from_pretrained(\n",
        "  \"reazon-research/reazonspeech-espnet-next\",\n",
        "  beam_size=5,\n",
        "  batch_size=0,\n",
        "  device=device\n",
        ")\n",
        "SAMPLE_RATE = 13000\n",
        "speech, sample_rate = librosa.load(file_path, sr=SAMPLE_RATE)"
      ]
    },
    {
      "cell_type": "code",
      "execution_count": null,
      "metadata": {
        "cellView": "form",
        "id": "XfuNyRqFO-nY"
      },
      "outputs": [],
      "source": [
        "#@title 実行\n",
        "def create_file(file_name=\"transcribe\", file_type=\"srt\"):\n",
        "    with open(f\"{file_name}.{file_type}\", mode=\"w\", encoding=\"utf-8\") as f:\n",
        "        for index, _dict in enumerate(rs.transcribe(speech, speech2text)):\n",
        "            start_time = _dict.start_seconds\n",
        "            end_time = _dict.end_seconds\n",
        "            text = _dict.text\n",
        "            s_h, e_h = int(start_time//(60 * 60)), int(end_time//(60 * 60))\n",
        "            s_m, e_m = int((start_time % (60 * 60))//60), int((end_time % (60 * 60))//60)\n",
        "            s_s, e_s = int(start_time % 60), int(end_time % 60)\n",
        "            if file_type==\"srt\":\n",
        "                f.write(f'{index+1}\\n{s_h:02}:{s_m:02}:{s_s:02},000 --> {e_h:02}:{e_m:02}:{e_s:02},000\\n{text}\\n\\n')\n",
        "            elif file_type==\"txt\":\n",
        "                f.write(f'[{s_h:02}:{s_m:02}:{s_s:02} ===> {e_h:02}:{e_m:02}:{e_s:02}] {text}\\n')\n",
        "\n",
        "#@markdown - 出力先ファイルの拡張子を選択してください\n",
        "file_type = \"srt\" #@param [\"srt\", \"txt\"]\n",
        "create_file(file_name=file_name , file_type=file_type)\n",
        "\n",
        "print(f\"ファイルが保存されました: {file_name}.{file_type}\")"
      ]
    }
  ],
  "metadata": {
    "accelerator": "GPU",
    "colab": {
      "gpuType": "T4",
      "provenance": [],
      "include_colab_link": true
    },
    "kernelspec": {
      "display_name": "Python 3",
      "name": "python3"
    },
    "language_info": {
      "name": "python"
    }
  },
  "nbformat": 4,
  "nbformat_minor": 0
}